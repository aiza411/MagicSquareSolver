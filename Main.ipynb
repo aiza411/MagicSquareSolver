{
  "cells": [
    {
      "cell_type": "code",
      "execution_count": 1,
      "metadata": {
        "id": "34729mBuSD5j"
      },
      "outputs": [],
      "source": [
        "import random\n",
        "import copy\n",
        "import heapq"
      ]
    },
    {
      "cell_type": "code",
      "execution_count": 2,
      "metadata": {
        "id": "qCesg0_xSD5l"
      },
      "outputs": [],
      "source": [
        "#Function to get the values of the grid\n",
        "def get_box(square, row, col):\n",
        "    box_row = (row // 3)\n",
        "    box_col = (col // 3)\n",
        "    return {square[box_row + i][box_col + j] for i in range(3) for j in range(3)}"
      ]
    },
    {
      "cell_type": "code",
      "execution_count": 3,
      "metadata": {
        "id": "usxH2v4VSD5l"
      },
      "outputs": [],
      "source": [
        "#Function to find the unused value\n",
        "def get_value(square, row, col):\n",
        "    used = set(square[row]) | {square[i][col] for i in range(3)} | get_box(square, row, col)\n",
        "    return [i for i in range(1, 10) if i not in used]"
      ]
    },
    {
      "cell_type": "code",
      "execution_count": 4,
      "metadata": {
        "id": "scuuXrYeSD5m"
      },
      "outputs": [],
      "source": [
        "#Function to generate board\n",
        "#values are selecr=ted randomly and then some values are given 0 indicating the missing values of puzzle\n",
        "def Generate_Square():\n",
        "    square=[[0 for j in range(3)] for i in range(3)]\n",
        "    for i in range(3):\n",
        "        for j in range(3):\n",
        "            value=get_value(square,i,j)\n",
        "            if not value:\n",
        "                return Generate_Square()\n",
        "            square[i][j]=random.choice(value)\n",
        "\n",
        "    return square"
      ]
    },
    {
      "cell_type": "code",
      "execution_count": 5,
      "metadata": {
        "id": "aPuadYlASD5m"
      },
      "outputs": [],
      "source": [
        "#Function to display the board\n",
        "def Display_Board(square):\n",
        "    if square is None:\n",
        "        return\n",
        "\n",
        "    for i in square:\n",
        "        for j in i:\n",
        "            print(j, end=\" | \")\n",
        "        print(\"\\n----------\")"
      ]
    },
    {
      "cell_type": "code",
      "execution_count": 6,
      "metadata": {
        "id": "QYATCuneSD5m"
      },
      "outputs": [],
      "source": [
        "#Function to check if the goal state has reached\n",
        "def Check_Goal_State(square):\n",
        "    for i in range(3):\n",
        "        row_sum=0\n",
        "        for j in range(3):\n",
        "            row_sum+=square[i][j]\n",
        "        if(row_sum!=15):\n",
        "            return False\n",
        "\n",
        "\n",
        "\n",
        "    for i in range(3):\n",
        "        column_sum=0\n",
        "        for j in range(3):\n",
        "            column_sum+=square[j][i]\n",
        "        if(column_sum!=15):\n",
        "            return False\n",
        "\n",
        "\n",
        "    diagonal_sum=0\n",
        "    for i in range(3):\n",
        "        for j in range(3):\n",
        "            if i==j:\n",
        "                diagonal_sum+=square[i][j]\n",
        "    if(diagonal_sum!=15):\n",
        "        return False\n",
        "\n",
        "\n",
        "    diagonal_sum1=0\n",
        "    for i in range(3):\n",
        "            diagonal_sum1+=square[i][2-i]\n",
        "    if(diagonal_sum1!=15):\n",
        "        return False\n",
        "\n",
        "\n",
        "    return True"
      ]
    },
    {
      "cell_type": "code",
      "execution_count": 7,
      "metadata": {
        "id": "so-PoHawSD5n"
      },
      "outputs": [],
      "source": [
        "#Function to calculate heuristic\n",
        "def Calculate_Heuristic(state):\n",
        "    cost = 0\n",
        "    for i in range(3):\n",
        "        if None not in state[i]:\n",
        "            if sum(state[i]) != 15:\n",
        "                cost += 1\n",
        "\n",
        "        if None not in [state[j][i] for j in range(3)]:\n",
        "            if sum([state[j][i] for j in range(3)]) != 15:\n",
        "                cost += 1\n",
        "\n",
        "    if None not in [state[i][i] for i in range(3)]:\n",
        "        if sum([state[i][i] for i in range(3)]) != 15:\n",
        "            cost += 1\n",
        "\n",
        "    if None not in [state[i][2-i] for i in range(3)]:\n",
        "        if sum([state[i][2-i] for i in range(3)]) != 15:\n",
        "            cost += 1\n",
        "\n",
        "    return cost"
      ]
    },
    {
      "cell_type": "code",
      "execution_count": 8,
      "metadata": {
        "id": "2cneuAmhSD5n"
      },
      "outputs": [],
      "source": [
        "#Function to generate all possible states\n",
        "def Generate_States(board):\n",
        "    x = 0\n",
        "    y = 0\n",
        "    states = list()\n",
        "\n",
        "    for i in range(0, 3):\n",
        "        for j in range(0, 3):\n",
        "            if board[i][j]==9:\n",
        "                x = i\n",
        "                y = j\n",
        "    print(\"X: \", x , \" y: \", y)\n",
        "\n",
        "    if y > 0:\n",
        "        tempstate = copy.deepcopy(board)\n",
        "        tempstate[x][y], tempstate[x][y-1] = tempstate[x][y-1], tempstate[x][y]\n",
        "        if tempstate not in states:\n",
        "            states.append(tempstate)\n",
        "\n",
        "\n",
        "    if y < 2:\n",
        "        tempstate = copy.deepcopy(board)\n",
        "        tempstate[x][y], tempstate[x][y+1] = tempstate[x][y+1], tempstate[x][y]\n",
        "        if tempstate not in states:\n",
        "            states.append(tempstate)\n",
        "\n",
        "\n",
        "    if x > 0:\n",
        "        tempstate = copy.deepcopy(board)\n",
        "        tempstate[x][y], tempstate[x-1][y] = tempstate[x-1][y], tempstate[x][y]\n",
        "\n",
        "        if tempstate not in states:\n",
        "            states.append(tempstate)\n",
        "\n",
        "\n",
        "    if x < 2:\n",
        "        tempstate = copy.deepcopy(board)\n",
        "        tempstate[x][y], tempstate[x+1][y] = tempstate[x+1][y], tempstate[x][y]\n",
        "\n",
        "        if tempstate not in states:\n",
        "            states.append(tempstate)\n",
        "\n",
        "    return states"
      ]
    },
    {
      "cell_type": "code",
      "execution_count": 9,
      "metadata": {
        "id": "mQbJzKqGSD5n"
      },
      "outputs": [],
      "source": [
        "#Function to solve using A*\n",
        "def A_star(startState):\n",
        "\n",
        "    visited = [startState]\n",
        "    stack = [(Calculate_Heuristic(startState),startState)]\n",
        "    counter = 0\n",
        "\n",
        "    while stack:\n",
        "        counter += 1\n",
        "        print(\"Iteration: \", counter)\n",
        "\n",
        "        _,S = heapq.heappop(stack)\n",
        "        Display_Board(S)\n",
        "\n",
        "        if Check_Goal_State(S):\n",
        "            print(\"FOUND SOLUTION IN \", counter, \" ITERATIONS!\")\n",
        "            return\n",
        "\n",
        "        states = Generate_States(S)\n",
        "        for state in states:\n",
        "            if state not in visited:\n",
        "                cost=Calculate_Heuristic(state)\n",
        "                heapq.heappush(stack, (cost, state))"
      ]
    },
    {
      "cell_type": "code",
      "execution_count": 10,
      "metadata": {
        "id": "Kwwy2wZwSD5o"
      },
      "outputs": [],
      "source": [
        "#Function to solve using DFS\n",
        "def DFS(startState):\n",
        "\n",
        "    visited = [startState]\n",
        "    stack = [startState]\n",
        "    counter = 0\n",
        "\n",
        "    while stack:\n",
        "        counter += 1\n",
        "        print(\"Iteration: \", counter)\n",
        "\n",
        "        S = stack.pop()\n",
        "        Display_Board(S)\n",
        "\n",
        "        if Check_Goal_State(S):\n",
        "            print(\"FOUND SOLUTION IN \", counter, \" ITERATIONS!\")\n",
        "            return\n",
        "\n",
        "        states = Generate_States(S)\n",
        "        for state in states:\n",
        "            if state not in visited:\n",
        "                visited.append(state)\n",
        "                stack.append(state)"
      ]
    },
    {
      "cell_type": "code",
      "source": [
        "print('GENERATED BOARD : ')\n",
        "Square=Generate_Square()\n",
        "Display_Board(Square)\n",
        "Calculate_Heuristic(Square)\n",
        "DFS(Square)\n",
        "A_star(Square)"
      ],
      "metadata": {
        "id": "Yxo_eT1jSwKF"
      },
      "execution_count": null,
      "outputs": []
    }
  ],
  "metadata": {
    "kernelspec": {
      "display_name": "base",
      "language": "python",
      "name": "python3"
    },
    "language_info": {
      "codemirror_mode": {
        "name": "ipython",
        "version": 3
      },
      "file_extension": ".py",
      "mimetype": "text/x-python",
      "name": "python",
      "nbconvert_exporter": "python",
      "pygments_lexer": "ipython3",
      "version": "3.9.16"
    },
    "orig_nbformat": 4,
    "vscode": {
      "interpreter": {
        "hash": "d9e5fd6c8a29afcecdd5d787d9e807410d1dd39b664dd30d7a9fc192dfc644c1"
      }
    },
    "colab": {
      "provenance": []
    }
  },
  "nbformat": 4,
  "nbformat_minor": 0
}